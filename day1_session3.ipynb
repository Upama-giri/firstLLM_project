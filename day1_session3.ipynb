{
  "nbformat": 4,
  "nbformat_minor": 0,
  "metadata": {
    "colab": {
      "provenance": [],
      "authorship_tag": "ABX9TyOOHx1OQDE+uIOD24+/Zja1",
      "include_colab_link": true
    },
    "kernelspec": {
      "name": "python3",
      "display_name": "Python 3"
    },
    "language_info": {
      "name": "python"
    }
  },
  "cells": [
    {
      "cell_type": "markdown",
      "metadata": {
        "id": "view-in-github",
        "colab_type": "text"
      },
      "source": [
        "<a href=\"https://colab.research.google.com/github/Upama-giri/firstLLM_project/blob/main/day1_session3.ipynb\" target=\"_parent\"><img src=\"https://colab.research.google.com/assets/colab-badge.svg\" alt=\"Open In Colab\"/></a>"
      ]
    },
    {
      "cell_type": "code",
      "execution_count": 8,
      "metadata": {
        "id": "nKmk1TG-voHO"
      },
      "outputs": [],
      "source": [
        "from google.colab import userdata\n",
        "api_key=userdata.get('gemini_api_key')"
      ]
    },
    {
      "cell_type": "code",
      "source": [
        "import google.generativeai as genai"
      ],
      "metadata": {
        "id": "QQK-I7gxykDJ"
      },
      "execution_count": 2,
      "outputs": []
    },
    {
      "cell_type": "code",
      "source": [
        "genai.configure(api_key=api_key)\n",
        "llm=genai.GenerativeModel('gemini-2.5-flash')\n",
        "response = llm.generate_content(\"timro naam k ho?\")\n"
      ],
      "metadata": {
        "id": "kGimOCNDzhSz"
      },
      "execution_count": 16,
      "outputs": []
    },
    {
      "cell_type": "code",
      "source": [
        "response"
      ],
      "metadata": {
        "colab": {
          "base_uri": "https://localhost:8080/"
        },
        "id": "TQ4w4Dei1Kyc",
        "outputId": "2d17ad29-2a45-4e3d-d1cd-4d165dfa8daa"
      },
      "execution_count": 17,
      "outputs": [
        {
          "output_type": "execute_result",
          "data": {
            "text/plain": [
              "response:\n",
              "GenerateContentResponse(\n",
              "    done=True,\n",
              "    iterator=None,\n",
              "    result=protos.GenerateContentResponse({\n",
              "      \"candidates\": [\n",
              "        {\n",
              "          \"content\": {\n",
              "            \"parts\": [\n",
              "              {\n",
              "                \"text\": \"Mero kunai naam chhaina. Ma Google dwara prashikshit ek vishal bhasha model hu.\"\n",
              "              }\n",
              "            ],\n",
              "            \"role\": \"model\"\n",
              "          },\n",
              "          \"finish_reason\": \"STOP\",\n",
              "          \"index\": 0\n",
              "        }\n",
              "      ],\n",
              "      \"usage_metadata\": {\n",
              "        \"prompt_token_count\": 7,\n",
              "        \"candidates_token_count\": 26,\n",
              "        \"total_token_count\": 382\n",
              "      },\n",
              "      \"model_version\": \"gemini-2.5-flash\"\n",
              "    }),\n",
              ")"
            ]
          },
          "metadata": {},
          "execution_count": 17
        }
      ]
    },
    {
      "cell_type": "code",
      "source": [
        "print(response.text)\n"
      ],
      "metadata": {
        "colab": {
          "base_uri": "https://localhost:8080/"
        },
        "id": "yIwTiYpg1R_W",
        "outputId": "7e7bf0bc-8bdf-4a15-88e0-5fb4f5435ce0"
      },
      "execution_count": 18,
      "outputs": [
        {
          "output_type": "stream",
          "name": "stdout",
          "text": [
            "Mero kunai naam chhaina. Ma Google dwara prashikshit ek vishal bhasha model hu.\n"
          ]
        }
      ]
    },
    {
      "cell_type": "code",
      "source": [
        "# tune the llm model\n",
        "generation_Config = {\n",
        " 'temperature': 0.6,\n",
        " 'max_output_tokens': 8000,\n",
        " 'candidate_count':1,\n",
        "}"
      ],
      "metadata": {
        "id": "CEzstyRI393e"
      },
      "execution_count": 31,
      "outputs": []
    },
    {
      "cell_type": "code",
      "source": [
        "llm = genai.GenerativeModel(\n",
        "    model_name=\"gemini-2.5-flash\",\n",
        "    generation_config=generation_Config,\n",
        "    system_instruction=\"you are the professor of engineering college of physics\"\n",
        "\n",
        ")"
      ],
      "metadata": {
        "id": "hlZT0Us-4pm_"
      },
      "execution_count": 33,
      "outputs": []
    },
    {
      "cell_type": "code",
      "source": [
        "input= \"what is newton's first law of gravitation?\""
      ],
      "metadata": {
        "id": "6hx49XOx5F6x"
      },
      "execution_count": 34,
      "outputs": []
    },
    {
      "cell_type": "code",
      "source": [
        "# start the session\n",
        "chat_session = llm.start_chat()"
      ],
      "metadata": {
        "id": "JBeW5-4O5oHZ"
      },
      "execution_count": 35,
      "outputs": []
    },
    {
      "cell_type": "code",
      "source": [
        "response = chat_session.send_message(input)\n",
        "response.text"
      ],
      "metadata": {
        "colab": {
          "base_uri": "https://localhost:8080/",
          "height": 139
        },
        "id": "eovvCo175yN-",
        "outputId": "7df1178a-6772-4d7d-b980-a978e7693ae2"
      },
      "execution_count": 36,
      "outputs": [
        {
          "output_type": "execute_result",
          "data": {
            "text/plain": [
              "'That\\'s an excellent question, and it highlights a common point of confusion!\\n\\nTo be precise, **Newton formulated one comprehensive law for gravitation, not a \"first law of gravitation\" in the same way he had three distinct laws of motion.**\\n\\nWhat you\\'re likely referring to, or what is commonly understood when discussing Newton\\'s contribution to gravitation, is his **Law of Universal Gravitation**.\\n\\nHere\\'s what that law states:\\n\\n**Newton\\'s Law of Universal Gravitation:**\\n\\nEvery particle attracts every other particle in the universe with a force that is:\\n\\n1.  **Directly proportional to the product of their masses ($m_1$ and $m_2$).** This means if you double the mass of one object, the gravitational force between them doubles. If you double both masses, the force quadruples.\\n2.  **Inversely proportional to the square of the distance ($r$) between their centers.** This is the \"inverse square law\" aspect. If you double the distance between two objects, the gravitational force between them becomes one-fourth (1/4) of what it was. If you triple the distance, it becomes one-ninth (1/9).\\n\\n**Mathematically, the law is expressed as:**\\n\\n$$F = G \\\\frac{m_1 m_2}{r^2}$$\\n\\nWhere:\\n*   **F** is the gravitational force between the two objects.\\n*   **G** is the **Universal Gravitational Constant**, an experimentally determined value that quantifies the strength of gravity. Its approximate value is $6.674 \\\\times 10^{-11} \\\\text{ N} \\\\cdot \\\\text{m}^2/\\\\text{kg}^2$.\\n*   **$m_1$** is the mass of the first object.\\n*   **$m_2$** is the mass of the second object.\\n*   **$r$** is the distance between the centers of the two objects.\\n\\n**Key Implications and Significance:**\\n\\n*   **Universality:** This law applies to *all* objects with mass, from an apple falling from a tree to planets orbiting the Sun, and even to galaxies interacting with each other. It unified celestial mechanics with terrestrial mechanics.\\n*   **Attractive Force:** Gravity is always an attractive force, pulling objects towards each other.\\n*   **Weak Force (on human scale):** While it governs the cosmos, gravity is the weakest of the four fundamental forces of nature. You don\\'t feel the gravitational pull of your pen on your hand because its mass is too small.\\n*   **Explains Kepler\\'s Laws:** Newton was able to derive Kepler\\'s empirical laws of planetary motion from this single gravitational law and his own laws of motion.\\n\\nSo, while there isn\\'t a \"Newton\\'s First Law of Gravitation\" per se, the **Law of Universal Gravitation** is the singular, groundbreaking principle he established for how mass interacts gravitationally across the universe.'"
            ],
            "application/vnd.google.colaboratory.intrinsic+json": {
              "type": "string"
            }
          },
          "metadata": {},
          "execution_count": 36
        }
      ]
    },
    {
      "cell_type": "code",
      "source": [
        "print(response.text)"
      ],
      "metadata": {
        "colab": {
          "base_uri": "https://localhost:8080/"
        },
        "id": "Ppg7XCdY5648",
        "outputId": "9e05e7ed-b200-4922-cc59-32ff8508d327"
      },
      "execution_count": 37,
      "outputs": [
        {
          "output_type": "stream",
          "name": "stdout",
          "text": [
            "That's an excellent question, and it highlights a common point of confusion!\n",
            "\n",
            "To be precise, **Newton formulated one comprehensive law for gravitation, not a \"first law of gravitation\" in the same way he had three distinct laws of motion.**\n",
            "\n",
            "What you're likely referring to, or what is commonly understood when discussing Newton's contribution to gravitation, is his **Law of Universal Gravitation**.\n",
            "\n",
            "Here's what that law states:\n",
            "\n",
            "**Newton's Law of Universal Gravitation:**\n",
            "\n",
            "Every particle attracts every other particle in the universe with a force that is:\n",
            "\n",
            "1.  **Directly proportional to the product of their masses ($m_1$ and $m_2$).** This means if you double the mass of one object, the gravitational force between them doubles. If you double both masses, the force quadruples.\n",
            "2.  **Inversely proportional to the square of the distance ($r$) between their centers.** This is the \"inverse square law\" aspect. If you double the distance between two objects, the gravitational force between them becomes one-fourth (1/4) of what it was. If you triple the distance, it becomes one-ninth (1/9).\n",
            "\n",
            "**Mathematically, the law is expressed as:**\n",
            "\n",
            "$$F = G \\frac{m_1 m_2}{r^2}$$\n",
            "\n",
            "Where:\n",
            "*   **F** is the gravitational force between the two objects.\n",
            "*   **G** is the **Universal Gravitational Constant**, an experimentally determined value that quantifies the strength of gravity. Its approximate value is $6.674 \\times 10^{-11} \\text{ N} \\cdot \\text{m}^2/\\text{kg}^2$.\n",
            "*   **$m_1$** is the mass of the first object.\n",
            "*   **$m_2$** is the mass of the second object.\n",
            "*   **$r$** is the distance between the centers of the two objects.\n",
            "\n",
            "**Key Implications and Significance:**\n",
            "\n",
            "*   **Universality:** This law applies to *all* objects with mass, from an apple falling from a tree to planets orbiting the Sun, and even to galaxies interacting with each other. It unified celestial mechanics with terrestrial mechanics.\n",
            "*   **Attractive Force:** Gravity is always an attractive force, pulling objects towards each other.\n",
            "*   **Weak Force (on human scale):** While it governs the cosmos, gravity is the weakest of the four fundamental forces of nature. You don't feel the gravitational pull of your pen on your hand because its mass is too small.\n",
            "*   **Explains Kepler's Laws:** Newton was able to derive Kepler's empirical laws of planetary motion from this single gravitational law and his own laws of motion.\n",
            "\n",
            "So, while there isn't a \"Newton's First Law of Gravitation\" per se, the **Law of Universal Gravitation** is the singular, groundbreaking principle he established for how mass interacts gravitationally across the universe.\n"
          ]
        }
      ]
    },
    {
      "cell_type": "markdown",
      "source": [
        "## Framework to work with LLM models for orchestration\n",
        ".langchain\n",
        ".\n",
        ".\n",
        "."
      ],
      "metadata": {
        "id": "AOC_UV7K6ttF"
      }
    },
    {
      "cell_type": "code",
      "source": [
        "# chatapi using langchain\n",
        "! pip install langchain_google_genai"
      ],
      "metadata": {
        "id": "yjMJFtVw6r5v"
      },
      "execution_count": null,
      "outputs": []
    },
    {
      "cell_type": "code",
      "source": [
        "from langchain_google_genai import ChatGoogleGenerativeAI"
      ],
      "metadata": {
        "id": "gJI9KYzP7HvQ"
      },
      "execution_count": 39,
      "outputs": []
    },
    {
      "cell_type": "code",
      "source": [
        "llm = ChatGoogleGenerativeAI(model=\"gemini-2.5-flash\",api_key=api_key)"
      ],
      "metadata": {
        "id": "VYfyOz2y7VBI"
      },
      "execution_count": 40,
      "outputs": []
    },
    {
      "cell_type": "code",
      "source": [
        "result = llm.invoke(\"tell me a joke in nepali\")\n",
        "result.content"
      ],
      "metadata": {
        "colab": {
          "base_uri": "https://localhost:8080/",
          "height": 105
        },
        "id": "POoQsfeG7i6m",
        "outputId": "13a7421e-8ca1-4c0c-de5e-457b5918b30c"
      },
      "execution_count": 41,
      "outputs": [
        {
          "output_type": "execute_result",
          "data": {
            "text/plain": [
              "'लौ एउटा शिक्षक-विद्यार्थीको जोक सुन्नुहोस्:\\n\\n**शिक्षक:** \"राजू, भविष्यकालको एउटा वाक्य बनाऊ त।\"\\n**(Shikshak: \"Raju, bhavishyakal ko euta vakya banau ta?\")**\\n*(Teacher: \"Raju, make a sentence in future tense.\")*\\n\\n**राजू:** \"सर, \\'म सुत्छु\\'।\"\\n**(Raju: \"Sir, \\'Ma sut-chhu\\'.\")**\\n*(Raju: \"Sir, \\'I sleep/will sleep\\'.\")*\\n\\n**शिक्षक:** \"तर राजू, तिमी त अहिले नै कक्षामा सुतिरहेका छौ नि!\"\\n**(Shikshak: \"Tara Raju, timi ta ahile nai kakshama sutiraheka chhau ni!\")**\\n*(Teacher: \"But Raju, you are already sleeping in class!\")*\\n\\n**राजू:** \"होइन सर, यो त मेरो भविष्यको एउटा **डेमो** मात्र हो।\"\\n**(Raju: \"Hoi na sir, yo ta mero bhavishya ko euta **demo** matra ho.\")**\\n*(Raju: \"No, Sir, this is just a **demo** of my future.\")*'"
            ],
            "application/vnd.google.colaboratory.intrinsic+json": {
              "type": "string"
            }
          },
          "metadata": {},
          "execution_count": 41
        }
      ]
    },
    {
      "cell_type": "code",
      "source": [
        "print(result.content)"
      ],
      "metadata": {
        "colab": {
          "base_uri": "https://localhost:8080/"
        },
        "id": "8BCDsG4T7zMY",
        "outputId": "45b2c747-7282-4791-84c6-c29ac6551204"
      },
      "execution_count": 46,
      "outputs": [
        {
          "output_type": "stream",
          "name": "stdout",
          "text": [
            "लौ एउटा शिक्षक-विद्यार्थीको जोक सुन्नुहोस्:\n",
            "\n",
            "**शिक्षक:** \"राजू, भविष्यकालको एउटा वाक्य बनाऊ त।\"\n",
            "**(Shikshak: \"Raju, bhavishyakal ko euta vakya banau ta?\")**\n",
            "*(Teacher: \"Raju, make a sentence in future tense.\")*\n",
            "\n",
            "**राजू:** \"सर, 'म सुत्छु'।\"\n",
            "**(Raju: \"Sir, 'Ma sut-chhu'.\")**\n",
            "*(Raju: \"Sir, 'I sleep/will sleep'.\")*\n",
            "\n",
            "**शिक्षक:** \"तर राजू, तिमी त अहिले नै कक्षामा सुतिरहेका छौ नि!\"\n",
            "**(Shikshak: \"Tara Raju, timi ta ahile nai kakshama sutiraheka chhau ni!\")**\n",
            "*(Teacher: \"But Raju, you are already sleeping in class!\")*\n",
            "\n",
            "**राजू:** \"होइन सर, यो त मेरो भविष्यको एउटा **डेमो** मात्र हो।\"\n",
            "**(Raju: \"Hoi na sir, yo ta mero bhavishya ko euta **demo** matra ho.\")**\n",
            "*(Raju: \"No, Sir, this is just a **demo** of my future.\")*\n"
          ]
        }
      ]
    },
    {
      "cell_type": "markdown",
      "source": [
        "### let's playaround prompt template"
      ],
      "metadata": {
        "id": "Qeu7ZHht9YzF"
      }
    },
    {
      "cell_type": "code",
      "source": [
        "template_string = \"\"\" Translate the text \\\n",
        "that id delimated by triple backticks \\\n",
        "into a style that is {style}. \\\n",
        "text: ```{text}```\n",
        "\"\"\""
      ],
      "metadata": {
        "id": "pxTFRjep78G0"
      },
      "execution_count": 47,
      "outputs": []
    },
    {
      "cell_type": "code",
      "source": [
        "from langchain.prompts import ChatPromptTemplate\n",
        "prompt_template=ChatPromptTemplate.from_template(template_string)"
      ],
      "metadata": {
        "id": "mILinfny9weC"
      },
      "execution_count": 48,
      "outputs": []
    },
    {
      "cell_type": "code",
      "source": [
        "prompt_template.messages[0].prompt"
      ],
      "metadata": {
        "colab": {
          "base_uri": "https://localhost:8080/"
        },
        "id": "HYKkwbtv-IFN",
        "outputId": "3d85312c-eb83-469c-f86a-748b52d0a8be"
      },
      "execution_count": 50,
      "outputs": [
        {
          "output_type": "execute_result",
          "data": {
            "text/plain": [
              "PromptTemplate(input_variables=['style', 'text'], input_types={}, partial_variables={}, template=' Translate the text that id delimated by triple backticks into a style that is {style}. text: ```{text}```\\n')"
            ]
          },
          "metadata": {},
          "execution_count": 50
        }
      ]
    },
    {
      "cell_type": "code",
      "source": [
        "customer_style =\"\"\"pure nepali \\\n",
        "in a calm and respectful tone\n",
        "\"\"\""
      ],
      "metadata": {
        "id": "-Lwzwt6Z-NXD"
      },
      "execution_count": 58,
      "outputs": []
    },
    {
      "cell_type": "code",
      "source": [
        "customer_email =\"\"\"Welcome to Genai tutorial\\\n",
        " class. This is day 1 . we are using google gemini flash model\n",
        "\"\"\""
      ],
      "metadata": {
        "id": "NNjuomP9-lUX"
      },
      "execution_count": 65,
      "outputs": []
    },
    {
      "cell_type": "code",
      "source": [
        "service_style = \"\"\"a polite tone \\ that speaks in japanese\"\"\"\n",
        "service_reply = \"\"\"hey there customer, \\\n",
        "what can I do for you?\"\"\"\n",
        "\n"
      ],
      "metadata": {
        "id": "4LOwwggt_4oa"
      },
      "execution_count": 76,
      "outputs": []
    },
    {
      "cell_type": "code",
      "source": [
        "customer_messages = prompt_template.format_messages(\n",
        "    style=service_style,\n",
        "    text=service_reply\n",
        ")"
      ],
      "metadata": {
        "id": "RIjc6GTwAWE3"
      },
      "execution_count": 79,
      "outputs": []
    },
    {
      "cell_type": "code",
      "source": [
        "print(customer_messages[0])"
      ],
      "metadata": {
        "colab": {
          "base_uri": "https://localhost:8080/"
        },
        "id": "pl4a3RHC_GNi",
        "outputId": "00631a3f-fafa-48af-f053-caf6a3fa3364"
      },
      "execution_count": 80,
      "outputs": [
        {
          "output_type": "stream",
          "name": "stdout",
          "text": [
            "content=' Translate the text that id delimated by triple backticks into a style that is a polite tone \\\\ that speaks in japanese. text: ```hey there customer, what can I do for you?```\\n' additional_kwargs={} response_metadata={}\n"
          ]
        }
      ]
    },
    {
      "cell_type": "code",
      "source": [
        "# lets call LLM model to translate the style of customer messages\n",
        "customer_respnse = llm.invoke(customer_messages)\n",
        "print(customer_respnse)"
      ],
      "metadata": {
        "colab": {
          "base_uri": "https://localhost:8080/"
        },
        "id": "GO9-IJai_Lqn",
        "outputId": "c953e3d3-b4d3-405b-9e2e-f93d25498fc5"
      },
      "execution_count": 81,
      "outputs": [
        {
          "output_type": "stream",
          "name": "stdout",
          "text": [
            "content='Here are a few options, all conveying a polite Japanese tone for a customer service interaction:\\n\\n1.  **いらっしゃいませ。いかがなさいましたか？**\\n    *   **Romanization:** *Irasshaimase. Ikaga nasaimashita ka?*\\n    *   **Nuance:** This is the most common and natural way to greet a customer and politely ask \"How may I help you?\" or \"What can I do for you?\" *Irasshaimase* is the standard \"welcome\" for customers, and *ikaga nasaimashita ka?* is a very polite and versatile phrase for offering assistance.\\n\\n2.  **いらっしゃいませ。何かお手伝いしましょうか？**\\n    *   **Romanization:** *Irasshaimase. Nani ka otetsudai shimashō ka?*\\n    *   **Nuance:** Similar to the first, but *Nani ka otetsudai shimashō ka?* directly translates to \"May I help you with something?\" It\\'s also very polite and commonly used.\\n\\nBoth options are excellent choices for a polite Japanese service context. The first one (*ikaga nasaimashita ka?*) often feels slightly more common in general service settings (e.g., at a counter or reception), while the second (*nani ka otetsudai shimashō ka?*) is very clear about offering \"help.\"' additional_kwargs={} response_metadata={'prompt_feedback': {'block_reason': 0, 'safety_ratings': []}, 'finish_reason': 'STOP', 'model_name': 'gemini-2.5-flash', 'safety_ratings': []} id='run--375f8da3-e757-4e33-b8ae-8ca1457a0630-0'\n"
          ]
        }
      ]
    },
    {
      "cell_type": "code",
      "source": [],
      "metadata": {
        "id": "CdDA2VGbAptn"
      },
      "execution_count": null,
      "outputs": []
    }
  ]
}